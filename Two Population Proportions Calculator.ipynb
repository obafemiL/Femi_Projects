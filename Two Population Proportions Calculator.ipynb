{
 "cells": [
  {
   "cell_type": "code",
   "execution_count": 7,
   "id": "c35c0487",
   "metadata": {},
   "outputs": [
    {
     "name": "stdout",
     "output_type": "stream",
     "text": [
      "Enter the hypothesis test (e.g. 'two-sided', 'less', 'greater'): greater\n",
      "Enter the alpha level (e.g. 0.05): 0.02\n",
      "Enter the sample size for the first population: 500\n",
      "Enter the sample size for the second population: 500\n",
      "Enter the number of successes in the first sample: 100\n",
      "Enter the number of successes in the second sample: 81\n",
      "Sample 1 size: 500\n",
      "Sample 2 size: 500\n",
      "Sample 1 successes: 100.0\n",
      "Sample 2 successes: 81.0\n",
      "Sample 1 proportion: 0.2\n",
      "Sample 2 proportion: 0.162\n",
      "Pooled sample proportion: 0.181\n",
      "Standard error of the difference in proportions: 0.024\n",
      "Test statistic: 1.561\n",
      "P-value: 0.0593\n",
      "The null hypothesis is not rejected.\n"
     ]
    }
   ],
   "source": [
    "import scipy.stats as stats\n",
    "\n",
    "# Get user input for hypothesis test and alpha level\n",
    "hypothesis_test = input(\"Enter the hypothesis test (e.g. 'two-sided', 'less', 'greater'): \")\n",
    "alpha = float(input(\"Enter the alpha level (e.g. 0.05): \"))\n",
    "\n",
    "# Get user input for sample sizes and number of successes for each sample\n",
    "n1 = int(input(\"Enter the sample size for the first population: \"))\n",
    "n2 = int(input(\"Enter the sample size for the second population: \"))\n",
    "x1 = float(input(\"Enter the number of successes in the first sample: \"))\n",
    "x2 = float(input(\"Enter the number of successes in the second sample: \"))\n",
    "\n",
    "# Compute the sample proportions\n",
    "p1 = x1 / n1\n",
    "p2 = x2 / n2\n",
    "\n",
    "# Compute the pooled sample proportion\n",
    "p_pool = (x1 + x2) / (n1 + n2)\n",
    "\n",
    "# Compute the standard error of the difference in sample proportions\n",
    "se_diff = ((p_pool * (1 - p_pool)) / n1 + (p_pool * (1 - p_pool)) / n2) ** 0.5\n",
    "\n",
    "# Compute the test statistic\n",
    "test_stat = (p1 - p2) / se_diff\n",
    "\n",
    "# Compute the p-value\n",
    "if hypothesis_test == \"two-sided\":\n",
    "    p_value = 2 * (1 - stats.norm.cdf(abs(test_stat)))\n",
    "elif hypothesis_test == \"less\":\n",
    "    p_value = stats.norm.cdf(test_stat)\n",
    "elif hypothesis_test == \"greater\":\n",
    "    p_value = 1 - stats.norm.cdf(test_stat)\n",
    "\n",
    "# Print the results\n",
    "print(\"Sample 1 size:\", n1)\n",
    "print(\"Sample 2 size:\", n2)\n",
    "print(\"Sample 1 successes:\", x1)\n",
    "print(\"Sample 2 successes:\", x2)\n",
    "print(\"Sample 1 proportion:\", round(p1, 3))\n",
    "print(\"Sample 2 proportion:\", round(p2, 3))\n",
    "print(\"Pooled sample proportion:\", round(p_pool, 3))\n",
    "print(\"Standard error of the difference in proportions:\", round(se_diff, 3))\n",
    "print(\"Test statistic:\", round(test_stat, 3))\n",
    "print(\"P-value:\", round(p_value, 4))\n",
    "\n",
    "# Check if the null hypothesis is rejected or not\n",
    "if p_value < alpha:\n",
    "    print(\"The null hypothesis is rejected.\")\n",
    "else:\n",
    "    print(\"The null hypothesis is not rejected.\")\n"
   ]
  }
 ],
 "metadata": {
  "kernelspec": {
   "display_name": "Python 3 (ipykernel)",
   "language": "python",
   "name": "python3"
  },
  "language_info": {
   "codemirror_mode": {
    "name": "ipython",
    "version": 3
   },
   "file_extension": ".py",
   "mimetype": "text/x-python",
   "name": "python",
   "nbconvert_exporter": "python",
   "pygments_lexer": "ipython3",
   "version": "3.10.6"
  }
 },
 "nbformat": 4,
 "nbformat_minor": 5
}
