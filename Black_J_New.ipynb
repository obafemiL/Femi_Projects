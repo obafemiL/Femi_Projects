{
 "cells": [
  {
   "cell_type": "code",
   "execution_count": 5,
   "id": "bb3b40ed",
   "metadata": {},
   "outputs": [
    {
     "name": "stdout",
     "output_type": "stream",
     "text": [
      "Your hand now has a total value of 4\n",
      "Do you want to take another card? (Y/N): Y\n",
      "Your hand now has a total value of 9\n",
      "Do you want to take another card? (Y/N): Y\n",
      "Your hand now has a total value of 16\n",
      "Do you want to take another card? (Y/N): N\n",
      "You have stopped taking more cards with a hand value of 16\n",
      "The dealer was dealt a hand with a value of 21\n",
      "** You lose! **\n"
     ]
    }
   ],
   "source": [
    "import random\n",
    "\n",
    "def deal_card():\n",
    "    return random.randint(1, 10)\n",
    "\n",
    "def update_player_score(player_val):\n",
    "    return player_val + deal_card()\n",
    "\n",
    "def generate_dealer_score():\n",
    "    return random.randint(16, 21)\n",
    "\n",
    "def get_user_choice():\n",
    "    return input(\"Do you want to take another card? (Y/N): \").strip().lower()\n",
    "\n",
    "def main():\n",
    "    player_score = 0\n",
    "    dealer_score = generate_dealer_score()\n",
    "\n",
    "    while True:\n",
    "        player_score = update_player_score(player_score)\n",
    "        print(\"Your hand now has a total value of\", player_score)\n",
    "        \n",
    "        if player_score > 21:\n",
    "            print(\"You BUSTED with a total value of\", player_score)\n",
    "            print(\"** You lose! **\")\n",
    "            break\n",
    "\n",
    "        user_response = get_user_choice()\n",
    "        if user_response != \"y\":\n",
    "            print(\"You have stopped taking more cards with a hand value of\", player_score)\n",
    "            print(\"The dealer was dealt a hand with a value of\", dealer_score)\n",
    "\n",
    "            if player_score <= 21 and (player_score > dealer_score or dealer_score > 21):\n",
    "                print(\"** You win! **\")\n",
    "            else:\n",
    "                print(\"** You lose! **\")\n",
    "            \n",
    "            break\n",
    "\n",
    "if __name__ == \"__main__\":\n",
    "    main()\n"
   ]
  },
  {
   "cell_type": "code",
   "execution_count": null,
   "id": "94b5435a",
   "metadata": {},
   "outputs": [],
   "source": []
  }
 ],
 "metadata": {
  "kernelspec": {
   "display_name": "Python 3 (ipykernel)",
   "language": "python",
   "name": "python3"
  },
  "language_info": {
   "codemirror_mode": {
    "name": "ipython",
    "version": 3
   },
   "file_extension": ".py",
   "mimetype": "text/x-python",
   "name": "python",
   "nbconvert_exporter": "python",
   "pygments_lexer": "ipython3",
   "version": "3.10.6"
  }
 },
 "nbformat": 4,
 "nbformat_minor": 5
}
