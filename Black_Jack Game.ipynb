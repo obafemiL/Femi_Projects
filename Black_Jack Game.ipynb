{
 "cells": [
  {
   "cell_type": "code",
   "execution_count": 2,
   "id": "9396df5c",
   "metadata": {},
   "outputs": [
    {
     "name": "stdout",
     "output_type": "stream",
     "text": [
      "The sum of the first two cards is: 8\n",
      "Do you want to take another card?: (Y/N)Y\n",
      "Your hand now has a total value of 10\n",
      "Do you want to take another card?: (Y/N)Y\n",
      "Your hand now has a total value of 16\n",
      "Do you want to take another card?: (Y/N)Y\n",
      "Your hand now has a total value of 15\n",
      "Do you want to take another card?: (Y/N)N\n",
      "You have stopped taking more cards with a hand value of 15\n",
      "The dealer was dealt a hand with a value of 19\n",
      "\n",
      "** You lose! **\n"
     ]
    }
   ],
   "source": [
    "### import os\n",
    "import random\n",
    "\n",
    "\n",
    "#function to generate random no. between 1 to 10\n",
    "def deal_card():\n",
    "    return random.randint(1,10)\n",
    "\n",
    "#Below is my get score function!!!\n",
    "#function to add random no between 1 to 10 to player score\n",
    "def get_player_score(player_val):\n",
    "    player_val = player_val + deal_card()\n",
    "    return player_val\n",
    "\n",
    "#get dealer score\n",
    "\n",
    "def get_dealer_score():\n",
    "    return random.randint(16,21)\n",
    "\n",
    "# The main function.  It repeatedly plays games of blackjack until the user decides to stop.\n",
    "def main():\n",
    "    # Prime the loop and start the first game.\n",
    "    player_val = 0\n",
    "    dealer_val = 0\n",
    "    player_val = get_player_score(player_val)\n",
    "    dealer_score = get_dealer_score()\n",
    "    print(\"The sum of the first two cards is:\", player_val)\n",
    "    user_response = input(\"Do you want to take another card?: (Y/N)\")\n",
    "    game = \"\"\n",
    "    ## ask user whether he/she wants to play another game\n",
    "    while user_response == \"Y\" or user_response == \"y\":\n",
    "        player_score = get_player_score(player_val)\n",
    "        if player_score > 21:\n",
    "            print(\"You BUSTED with a total value of\",player_score)\n",
    "            game = \"lose\"\n",
    "            break\n",
    "        print(\"Your hand now has a total value of\",player_score)\n",
    "        user_response = input(\"Do you want to take another card?: (Y/N)\")\n",
    "        \n",
    "    if game == \"lose\":\n",
    "        print(\"\\n** You lose! **\")\n",
    "    else:\n",
    "        print(\"You have stopped taking more cards with a hand value of\",player_score)\n",
    "        print(\"The dealer was dealt a hand with a value of\",dealer_score)\n",
    "        if player_score <= dealer_score:\n",
    "            print(\"\\n** You lose! **\")\n",
    "        else:\n",
    "            print(\"\\n** You win! **\")\n",
    "\n",
    "# Call the main function to start the blackjack program.\n",
    "if __name__ == \"__main__\":\n",
    "    main()"
   ]
  },
  {
   "cell_type": "code",
   "execution_count": null,
   "id": "6bdda642",
   "metadata": {},
   "outputs": [],
   "source": []
  }
 ],
 "metadata": {
  "kernelspec": {
   "display_name": "Python 3 (ipykernel)",
   "language": "python",
   "name": "python3"
  },
  "language_info": {
   "codemirror_mode": {
    "name": "ipython",
    "version": 3
   },
   "file_extension": ".py",
   "mimetype": "text/x-python",
   "name": "python",
   "nbconvert_exporter": "python",
   "pygments_lexer": "ipython3",
   "version": "3.10.6"
  }
 },
 "nbformat": 4,
 "nbformat_minor": 5
}
